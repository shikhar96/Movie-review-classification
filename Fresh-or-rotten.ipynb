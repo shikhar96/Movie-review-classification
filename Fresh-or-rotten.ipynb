{
 "cells": [
  {
   "cell_type": "code",
   "execution_count": 1,
   "metadata": {},
   "outputs": [],
   "source": [
    "import pandas as pd\n",
    "import numpy as np\n",
    "from sklearn.feature_extraction.text import CountVectorizer\n",
    "from sklearn.model_selection import train_test_split\n",
    "import random\n",
    "from sklearn.utils import shuffle\n",
    "import re\n",
    "from sklearn.metrics import confusion_matrix, accuracy_score\n",
    "import warnings\n",
    "warnings.filterwarnings(\"ignore\")\n",
    "import nltk\n",
    "from nltk.corpus import stopwords\n",
    "from sklearn.model_selection import cross_val_score"
   ]
  },
  {
   "cell_type": "markdown",
   "metadata": {},
   "source": [
    "# Question 1"
   ]
  },
  {
   "cell_type": "code",
   "execution_count": 2,
   "metadata": {},
   "outputs": [],
   "source": [
    "df = pd.read_csv('rotten-tomatoes.csv.bz2')"
   ]
  },
  {
   "cell_type": "markdown",
   "metadata": {},
   "source": [
    "### Question 1.1"
   ]
  },
  {
   "cell_type": "code",
   "execution_count": 3,
   "metadata": {},
   "outputs": [
    {
     "data": {
      "text/html": [
       "<div>\n",
       "<style scoped>\n",
       "    .dataframe tbody tr th:only-of-type {\n",
       "        vertical-align: middle;\n",
       "    }\n",
       "\n",
       "    .dataframe tbody tr th {\n",
       "        vertical-align: top;\n",
       "    }\n",
       "\n",
       "    .dataframe thead th {\n",
       "        text-align: right;\n",
       "    }\n",
       "</style>\n",
       "<table border=\"1\" class=\"dataframe\">\n",
       "  <thead>\n",
       "    <tr style=\"text-align: right;\">\n",
       "      <th></th>\n",
       "      <th>critic</th>\n",
       "      <th>fresh</th>\n",
       "      <th>imdb</th>\n",
       "      <th>link</th>\n",
       "      <th>publication</th>\n",
       "      <th>quote</th>\n",
       "      <th>review_date</th>\n",
       "      <th>rtid</th>\n",
       "      <th>title</th>\n",
       "    </tr>\n",
       "  </thead>\n",
       "  <tbody>\n",
       "    <tr>\n",
       "      <td>4023</td>\n",
       "      <td>Kenneth Turan</td>\n",
       "      <td>fresh</td>\n",
       "      <td>115678</td>\n",
       "      <td>http://www.calendarlive.com/movies/reviews/cl-...</td>\n",
       "      <td>Los Angeles Times</td>\n",
       "      <td>As delicately and deliciously prepared as the ...</td>\n",
       "      <td>2001-02-14 00:00:00</td>\n",
       "      <td>13183</td>\n",
       "      <td>Big Night</td>\n",
       "    </tr>\n",
       "    <tr>\n",
       "      <td>9145</td>\n",
       "      <td>Joe Leydon</td>\n",
       "      <td>fresh</td>\n",
       "      <td>120812</td>\n",
       "      <td>http://www.variety.com/review/VE1117913350.htm...</td>\n",
       "      <td>Variety</td>\n",
       "      <td>Raucously entertaining!</td>\n",
       "      <td>2000-01-01 00:00:00</td>\n",
       "      <td>10201</td>\n",
       "      <td>Rush Hour</td>\n",
       "    </tr>\n",
       "    <tr>\n",
       "      <td>1666</td>\n",
       "      <td>Mick LaSalle</td>\n",
       "      <td>rotten</td>\n",
       "      <td>113305</td>\n",
       "      <td>http://www.sfgate.com/cgi-bin/article.cgi?f=/c...</td>\n",
       "      <td>San Francisco Chronicle</td>\n",
       "      <td>Higher Learning presents a profoundly uninspir...</td>\n",
       "      <td>2000-01-01 00:00:00</td>\n",
       "      <td>13586</td>\n",
       "      <td>Higher Learning</td>\n",
       "    </tr>\n",
       "    <tr>\n",
       "      <td>2256</td>\n",
       "      <td>Rita Kempley</td>\n",
       "      <td>rotten</td>\n",
       "      <td>107207</td>\n",
       "      <td>http://www.washingtonpost.com/wp-srv/style/lon...</td>\n",
       "      <td>Washington Post</td>\n",
       "      <td>The film takes forever to do what 60 Minutes d...</td>\n",
       "      <td>2000-01-01 00:00:00</td>\n",
       "      <td>13519</td>\n",
       "      <td>In the Name of the Father</td>\n",
       "    </tr>\n",
       "    <tr>\n",
       "      <td>6678</td>\n",
       "      <td>Susan Stark</td>\n",
       "      <td>fresh</td>\n",
       "      <td>119051</td>\n",
       "      <td>http://data.detnews.com/movies/details.hbs?myr...</td>\n",
       "      <td>Detroit News</td>\n",
       "      <td>Anthony Hopkins' first action movie casts him ...</td>\n",
       "      <td>2000-01-01 00:00:00</td>\n",
       "      <td>13371</td>\n",
       "      <td>The Edge</td>\n",
       "    </tr>\n",
       "    <tr>\n",
       "      <td>2917</td>\n",
       "      <td>Claudia Puig</td>\n",
       "      <td>fresh</td>\n",
       "      <td>426931</td>\n",
       "      <td>http://www.usatoday.com/community/utils/idmap/...</td>\n",
       "      <td>USA Today</td>\n",
       "      <td>August Rush will not be for everyone, but it w...</td>\n",
       "      <td>2007-11-22 00:00:00</td>\n",
       "      <td>770413356</td>\n",
       "      <td>August Rush</td>\n",
       "    </tr>\n",
       "    <tr>\n",
       "      <td>3599</td>\n",
       "      <td>Peter Rainer</td>\n",
       "      <td>fresh</td>\n",
       "      <td>47396</td>\n",
       "      <td>http://www.newyorkmetro.com/nymetro/movies/rev...</td>\n",
       "      <td>New York Magazine</td>\n",
       "      <td>The clearest example of a Hitchcock movie that...</td>\n",
       "      <td>2000-01-01 00:00:00</td>\n",
       "      <td>10046</td>\n",
       "      <td>Rear Window</td>\n",
       "    </tr>\n",
       "    <tr>\n",
       "      <td>13164</td>\n",
       "      <td>Jeff Millar</td>\n",
       "      <td>rotten</td>\n",
       "      <td>134119</td>\n",
       "      <td>http://www.chron.com/cs/CDA/moviestory.mpl/ae/...</td>\n",
       "      <td>Houston Chronicle</td>\n",
       "      <td>Perhaps at 90 or so minutes, it would have bee...</td>\n",
       "      <td>2000-01-01 00:00:00</td>\n",
       "      <td>13323</td>\n",
       "      <td>The Talented Mr. Ripley</td>\n",
       "    </tr>\n",
       "    <tr>\n",
       "      <td>10474</td>\n",
       "      <td>Peter Travers</td>\n",
       "      <td>rotten</td>\n",
       "      <td>133093</td>\n",
       "      <td>http://www.rollingstone.com/movies/reviews/the...</td>\n",
       "      <td>Rolling Stone</td>\n",
       "      <td>The Matrix soars with its feet in the air -- t...</td>\n",
       "      <td>2001-05-11 00:00:00</td>\n",
       "      <td>12897</td>\n",
       "      <td>The Matrix</td>\n",
       "    </tr>\n",
       "    <tr>\n",
       "      <td>11769</td>\n",
       "      <td>Emanuel Levy</td>\n",
       "      <td>fresh</td>\n",
       "      <td>162360</td>\n",
       "      <td>http://www.variety.com/review/VE1117488147.htm...</td>\n",
       "      <td>Variety</td>\n",
       "      <td>Steve Zahn shines in Illsley's feature debut, ...</td>\n",
       "      <td>2007-01-29 00:00:00</td>\n",
       "      <td>10925</td>\n",
       "      <td>Happy, Texas</td>\n",
       "    </tr>\n",
       "  </tbody>\n",
       "</table>\n",
       "</div>"
      ],
      "text/plain": [
       "              critic   fresh    imdb  \\\n",
       "4023   Kenneth Turan   fresh  115678   \n",
       "9145      Joe Leydon   fresh  120812   \n",
       "1666    Mick LaSalle  rotten  113305   \n",
       "2256    Rita Kempley  rotten  107207   \n",
       "6678     Susan Stark   fresh  119051   \n",
       "2917    Claudia Puig   fresh  426931   \n",
       "3599    Peter Rainer   fresh   47396   \n",
       "13164    Jeff Millar  rotten  134119   \n",
       "10474  Peter Travers  rotten  133093   \n",
       "11769   Emanuel Levy   fresh  162360   \n",
       "\n",
       "                                                    link  \\\n",
       "4023   http://www.calendarlive.com/movies/reviews/cl-...   \n",
       "9145   http://www.variety.com/review/VE1117913350.htm...   \n",
       "1666   http://www.sfgate.com/cgi-bin/article.cgi?f=/c...   \n",
       "2256   http://www.washingtonpost.com/wp-srv/style/lon...   \n",
       "6678   http://data.detnews.com/movies/details.hbs?myr...   \n",
       "2917   http://www.usatoday.com/community/utils/idmap/...   \n",
       "3599   http://www.newyorkmetro.com/nymetro/movies/rev...   \n",
       "13164  http://www.chron.com/cs/CDA/moviestory.mpl/ae/...   \n",
       "10474  http://www.rollingstone.com/movies/reviews/the...   \n",
       "11769  http://www.variety.com/review/VE1117488147.htm...   \n",
       "\n",
       "                   publication  \\\n",
       "4023         Los Angeles Times   \n",
       "9145                   Variety   \n",
       "1666   San Francisco Chronicle   \n",
       "2256           Washington Post   \n",
       "6678              Detroit News   \n",
       "2917                 USA Today   \n",
       "3599         New York Magazine   \n",
       "13164        Houston Chronicle   \n",
       "10474            Rolling Stone   \n",
       "11769                  Variety   \n",
       "\n",
       "                                                   quote          review_date  \\\n",
       "4023   As delicately and deliciously prepared as the ...  2001-02-14 00:00:00   \n",
       "9145                             Raucously entertaining!  2000-01-01 00:00:00   \n",
       "1666   Higher Learning presents a profoundly uninspir...  2000-01-01 00:00:00   \n",
       "2256   The film takes forever to do what 60 Minutes d...  2000-01-01 00:00:00   \n",
       "6678   Anthony Hopkins' first action movie casts him ...  2000-01-01 00:00:00   \n",
       "2917   August Rush will not be for everyone, but it w...  2007-11-22 00:00:00   \n",
       "3599   The clearest example of a Hitchcock movie that...  2000-01-01 00:00:00   \n",
       "13164  Perhaps at 90 or so minutes, it would have bee...  2000-01-01 00:00:00   \n",
       "10474  The Matrix soars with its feet in the air -- t...  2001-05-11 00:00:00   \n",
       "11769  Steve Zahn shines in Illsley's feature debut, ...  2007-01-29 00:00:00   \n",
       "\n",
       "            rtid                      title  \n",
       "4023       13183                  Big Night  \n",
       "9145       10201                  Rush Hour  \n",
       "1666       13586            Higher Learning  \n",
       "2256       13519  In the Name of the Father  \n",
       "6678       13371                   The Edge  \n",
       "2917   770413356                August Rush  \n",
       "3599       10046                Rear Window  \n",
       "13164      13323    The Talented Mr. Ripley  \n",
       "10474      12897                 The Matrix  \n",
       "11769      10925               Happy, Texas  "
      ]
     },
     "execution_count": 3,
     "metadata": {},
     "output_type": "execute_result"
    }
   ],
   "source": [
    "df.sample(10)"
   ]
  },
  {
   "cell_type": "markdown",
   "metadata": {},
   "source": [
    "### Question 1.2"
   ]
  },
  {
   "cell_type": "code",
   "execution_count": 4,
   "metadata": {},
   "outputs": [
    {
     "name": "stdout",
     "output_type": "stream",
     "text": [
      "The columns are: Index(['critic', 'fresh', 'imdb', 'link', 'publication', 'quote',\n",
      "       'review_date', 'rtid', 'title'],\n",
      "      dtype='object')\n"
     ]
    }
   ],
   "source": [
    "print('The columns are:', df.columns)"
   ]
  },
  {
   "cell_type": "markdown",
   "metadata": {},
   "source": [
    "### Question 1.3"
   ]
  },
  {
   "cell_type": "code",
   "execution_count": 5,
   "metadata": {},
   "outputs": [
    {
     "data": {
      "text/plain": [
       "critic         705\n",
       "fresh            0\n",
       "imdb             0\n",
       "link             0\n",
       "publication      0\n",
       "quote            0\n",
       "review_date      0\n",
       "rtid             0\n",
       "title            0\n",
       "dtype: int64"
      ]
     },
     "execution_count": 5,
     "metadata": {},
     "output_type": "execute_result"
    }
   ],
   "source": [
    "df.isna().sum()"
   ]
  },
  {
   "cell_type": "code",
   "execution_count": 6,
   "metadata": {},
   "outputs": [
    {
     "name": "stdout",
     "output_type": "stream",
     "text": [
      "1.) The number of NA's in fresh are 0\n",
      "\n",
      "2.) The number of NA's in quote are 0\n",
      "\n",
      "3.) The different values in the fresh column are: ['fresh' 'rotten' 'none']\n",
      "\n",
      "4.) The counts of the unique values in the fresh column are:\n",
      " fresh     8389\n",
      "rotten    5030\n",
      "none        23\n",
      "Name: fresh, dtype: int64\n",
      "\n",
      "5.) The number of zero length or whitespace: 0\n",
      "\n",
      "6.) mean    121.23129\n",
      "min       4.00000\n",
      "max     256.00000\n",
      "Name: quote, dtype: float64\n",
      "\n",
      "7.) The number of reviews that are there multiple times 596\n"
     ]
    }
   ],
   "source": [
    "print(\"1.) The number of NA's in fresh are\", df['fresh'].isna().sum())\n",
    "print(\"\\n2.) The number of NA's in quote are\", df['quote'].isna().sum())\n",
    "print('\\n3.) The different values in the fresh column are:', df['fresh'].unique())\n",
    "print('\\n4.) The counts of the unique values in the fresh column are:\\n', df['fresh'].value_counts())\n",
    "count = 0\n",
    "for i in range(len(df['quote'])):\n",
    "    if len(df['quote'][i]) == 0 or df['quote'][i].isspace() is not False:\n",
    "        count += 1\n",
    "print('\\n5.) The number of zero length or whitespace:', count)\n",
    "print()\n",
    "print('6.)', df['quote'].apply(len).describe()[['mean', 'min', 'max']])\n",
    "print('\\n7.) The number of reviews that are there multiple times', df[df.duplicated() == True].shape[0])"
   ]
  },
  {
   "cell_type": "markdown",
   "metadata": {},
   "source": [
    "### Question 1.4"
   ]
  },
  {
   "cell_type": "code",
   "execution_count": 7,
   "metadata": {},
   "outputs": [],
   "source": [
    "def clean(data):\n",
    "    new_df = data[(data.fresh != 'none') & (data.duplicated() == False)]\n",
    "    return new_df"
   ]
  },
  {
   "cell_type": "code",
   "execution_count": 8,
   "metadata": {},
   "outputs": [],
   "source": [
    "new_df = clean(df)"
   ]
  },
  {
   "cell_type": "code",
   "execution_count": 9,
   "metadata": {},
   "outputs": [
    {
     "data": {
      "text/plain": [
       "(12823, 9)"
      ]
     },
     "execution_count": 9,
     "metadata": {},
     "output_type": "execute_result"
    }
   ],
   "source": [
    "new_df.shape"
   ]
  },
  {
   "cell_type": "code",
   "execution_count": 10,
   "metadata": {},
   "outputs": [
    {
     "data": {
      "text/html": [
       "<div>\n",
       "<style scoped>\n",
       "    .dataframe tbody tr th:only-of-type {\n",
       "        vertical-align: middle;\n",
       "    }\n",
       "\n",
       "    .dataframe tbody tr th {\n",
       "        vertical-align: top;\n",
       "    }\n",
       "\n",
       "    .dataframe thead th {\n",
       "        text-align: right;\n",
       "    }\n",
       "</style>\n",
       "<table border=\"1\" class=\"dataframe\">\n",
       "  <thead>\n",
       "    <tr style=\"text-align: right;\">\n",
       "      <th></th>\n",
       "      <th>critic</th>\n",
       "      <th>fresh</th>\n",
       "      <th>imdb</th>\n",
       "      <th>link</th>\n",
       "      <th>publication</th>\n",
       "      <th>quote</th>\n",
       "      <th>review_date</th>\n",
       "      <th>rtid</th>\n",
       "      <th>title</th>\n",
       "    </tr>\n",
       "  </thead>\n",
       "  <tbody>\n",
       "    <tr>\n",
       "      <td>12818</td>\n",
       "      <td>Gene Siskel</td>\n",
       "      <td>rotten</td>\n",
       "      <td>88683</td>\n",
       "      <td>http://articles.chicagotribune.com/1985-09-13/...</td>\n",
       "      <td>Chicago Tribune</td>\n",
       "      <td>Agnes of God plays with some challenging ideas...</td>\n",
       "      <td>2013-05-08 00:00:00</td>\n",
       "      <td>11917</td>\n",
       "      <td>Agnes of God</td>\n",
       "    </tr>\n",
       "    <tr>\n",
       "      <td>12819</td>\n",
       "      <td>Variety Staff</td>\n",
       "      <td>rotten</td>\n",
       "      <td>88683</td>\n",
       "      <td>http://www.variety.com/review/VE1117796703.htm...</td>\n",
       "      <td>Variety</td>\n",
       "      <td>Fonda's relentless interrogating, mannered cha...</td>\n",
       "      <td>2008-10-18 00:00:00</td>\n",
       "      <td>11917</td>\n",
       "      <td>Agnes of God</td>\n",
       "    </tr>\n",
       "    <tr>\n",
       "      <td>12820</td>\n",
       "      <td>NaN</td>\n",
       "      <td>fresh</td>\n",
       "      <td>88683</td>\n",
       "      <td>http://www.timeout.com/film/reviews/77605/agne...</td>\n",
       "      <td>Time Out</td>\n",
       "      <td>Splendidly shot by Sven Nykvist and with excel...</td>\n",
       "      <td>2006-06-24 00:00:00</td>\n",
       "      <td>11917</td>\n",
       "      <td>Agnes of God</td>\n",
       "    </tr>\n",
       "    <tr>\n",
       "      <td>12821</td>\n",
       "      <td>Janet Maslin</td>\n",
       "      <td>rotten</td>\n",
       "      <td>88683</td>\n",
       "      <td>http://movies.nytimes.com/movie/review?res=950...</td>\n",
       "      <td>New York Times</td>\n",
       "      <td>Miss Tilly makes a radiant Agnes, and Miss Ban...</td>\n",
       "      <td>2003-05-20 00:00:00</td>\n",
       "      <td>11917</td>\n",
       "      <td>Agnes of God</td>\n",
       "    </tr>\n",
       "    <tr>\n",
       "      <td>12822</td>\n",
       "      <td>Roger Ebert</td>\n",
       "      <td>rotten</td>\n",
       "      <td>88683</td>\n",
       "      <td>http://www.rogerebert.com/reviews/agnes-of-god...</td>\n",
       "      <td>Chicago Sun-Times</td>\n",
       "      <td>Although the movie deals in the basic material...</td>\n",
       "      <td>2000-01-01 00:00:00</td>\n",
       "      <td>11917</td>\n",
       "      <td>Agnes of God</td>\n",
       "    </tr>\n",
       "  </tbody>\n",
       "</table>\n",
       "</div>"
      ],
      "text/plain": [
       "              critic   fresh   imdb  \\\n",
       "12818    Gene Siskel  rotten  88683   \n",
       "12819  Variety Staff  rotten  88683   \n",
       "12820            NaN   fresh  88683   \n",
       "12821   Janet Maslin  rotten  88683   \n",
       "12822    Roger Ebert  rotten  88683   \n",
       "\n",
       "                                                    link        publication  \\\n",
       "12818  http://articles.chicagotribune.com/1985-09-13/...    Chicago Tribune   \n",
       "12819  http://www.variety.com/review/VE1117796703.htm...            Variety   \n",
       "12820  http://www.timeout.com/film/reviews/77605/agne...           Time Out   \n",
       "12821  http://movies.nytimes.com/movie/review?res=950...     New York Times   \n",
       "12822  http://www.rogerebert.com/reviews/agnes-of-god...  Chicago Sun-Times   \n",
       "\n",
       "                                                   quote          review_date  \\\n",
       "12818  Agnes of God plays with some challenging ideas...  2013-05-08 00:00:00   \n",
       "12819  Fonda's relentless interrogating, mannered cha...  2008-10-18 00:00:00   \n",
       "12820  Splendidly shot by Sven Nykvist and with excel...  2006-06-24 00:00:00   \n",
       "12821  Miss Tilly makes a radiant Agnes, and Miss Ban...  2003-05-20 00:00:00   \n",
       "12822  Although the movie deals in the basic material...  2000-01-01 00:00:00   \n",
       "\n",
       "        rtid         title  \n",
       "12818  11917  Agnes of God  \n",
       "12819  11917  Agnes of God  \n",
       "12820  11917  Agnes of God  \n",
       "12821  11917  Agnes of God  \n",
       "12822  11917  Agnes of God  "
      ]
     },
     "execution_count": 10,
     "metadata": {},
     "output_type": "execute_result"
    }
   ],
   "source": [
    "new_df1 = new_df.reset_index(drop = True)\n",
    "new_df1.tail()"
   ]
  },
  {
   "cell_type": "markdown",
   "metadata": {},
   "source": [
    "# Question 2"
   ]
  },
  {
   "cell_type": "markdown",
   "metadata": {},
   "source": [
    "### Question 2.2"
   ]
  },
  {
   "cell_type": "code",
   "execution_count": 11,
   "metadata": {},
   "outputs": [],
   "source": [
    "vectorizer = CountVectorizer(binary=True)\n",
    "# define vectorizer\n",
    "X = vectorizer.fit_transform(new_df1.quote.values).toarray()\n",
    "# vectorize your data. Note: this creates a sparce matrix,\n",
    "# use .toarray() if you want a dense matrix.\n",
    "words = vectorizer.get_feature_names()\n",
    "# in case you want to see what are the actual words"
   ]
  },
  {
   "cell_type": "markdown",
   "metadata": {},
   "source": [
    "### Question 2.3"
   ]
  },
  {
   "cell_type": "code",
   "execution_count": 12,
   "metadata": {},
   "outputs": [],
   "source": [
    "# Splitting data into x and y\n",
    "x = new_df1.loc[:, new_df1.columns != 'fresh']\n",
    "y = new_df1['fresh']\n",
    "\n",
    "# Using train test split and setting the random state to 2\n",
    "x_train, x_validation, y_train, y_validation = train_test_split(x, y, test_size=0.2, random_state=2)"
   ]
  },
  {
   "cell_type": "markdown",
   "metadata": {},
   "source": [
    "### Question 2.4"
   ]
  },
  {
   "cell_type": "code",
   "execution_count": 13,
   "metadata": {},
   "outputs": [],
   "source": [
    "# Calculating the number of fresh's and rotten's\n",
    "f = y_train.value_counts()['fresh']\n",
    "r = y_train.value_counts()['rotten']"
   ]
  },
  {
   "cell_type": "code",
   "execution_count": 14,
   "metadata": {},
   "outputs": [
    {
     "name": "stdout",
     "output_type": "stream",
     "text": [
      "The log probability of fresh is: -0.47960307606247643\n",
      "The log probability of rotten is: -0.9650321547865404\n"
     ]
    }
   ],
   "source": [
    "#Calculating the log probabilities\n",
    "pr_fresh = np.log(f / (f + r))\n",
    "pr_rotten = np.log(r / (f + r))\n",
    "print('The log probability of fresh is:', pr_fresh)\n",
    "print('The log probability of rotten is:', pr_rotten)"
   ]
  },
  {
   "cell_type": "markdown",
   "metadata": {},
   "source": [
    "### Question 2.5"
   ]
  },
  {
   "cell_type": "code",
   "execution_count": 15,
   "metadata": {},
   "outputs": [],
   "source": [
    "X = pd.DataFrame(X)\n",
    "X.columns = words"
   ]
  },
  {
   "cell_type": "code",
   "execution_count": 16,
   "metadata": {},
   "outputs": [],
   "source": [
    "fresh_index = y_train[y_train == 'fresh'].index.values\n",
    "rotten_index = y_train[y_train == 'rotten'].index.values"
   ]
  },
  {
   "cell_type": "code",
   "execution_count": 17,
   "metadata": {},
   "outputs": [],
   "source": [
    "X_rotten = pd.DataFrame(X[X.index.isin(rotten_index)].sum())\n",
    "X_rotten = X_rotten.reset_index()\n",
    "X_rotten.columns = ['word', 'count']\n",
    "X_rotten = X_rotten[X_rotten['count'] != 0]\n",
    "X_rotten['log_prob'] = np.log(X_rotten['count']/len(rotten_index))\n",
    "X_rotten_new = X_rotten[['word', 'log_prob']].set_index(['word'])\n",
    "X_rotten_new = X_rotten_new.to_dict()['log_prob']"
   ]
  },
  {
   "cell_type": "code",
   "execution_count": 18,
   "metadata": {},
   "outputs": [],
   "source": [
    "X_fresh = pd.DataFrame(X[X.index.isin(fresh_index)].sum())\n",
    "X_fresh = X_fresh.reset_index() \n",
    "X_fresh.columns = ['word', 'count']\n",
    "X_fresh = X_fresh[X_fresh['count'] != 0]\n",
    "X_fresh['log_prob'] = np.log(X_fresh['count']/len(fresh_index))\n",
    "X_fresh_new = X_fresh[['word', 'log_prob']].set_index(['word'])\n",
    "X_fresh_new = X_fresh_new.to_dict()['log_prob']"
   ]
  },
  {
   "cell_type": "markdown",
   "metadata": {},
   "source": [
    "### Question 2.6"
   ]
  },
  {
   "cell_type": "code",
   "execution_count": 19,
   "metadata": {},
   "outputs": [],
   "source": [
    "pred_values = []\n",
    "for sentence in x_validation.quote:\n",
    "    ans_fresh, ans_rotten = 0, 0\n",
    "    temp = re.split(r'\\W+', sentence.lower())\n",
    "    for ele in temp:\n",
    "        if ele != '' and ele in X_fresh_new.keys():\n",
    "            ans_fresh += X_fresh_new[ele]\n",
    "        if ele != '' and ele in X_rotten_new.keys():\n",
    "            ans_rotten += X_rotten_new[ele]\n",
    "    if pr_fresh + ans_fresh > pr_rotten + ans_rotten:\n",
    "        pred_values.append('fresh')\n",
    "    else:\n",
    "        pred_values.append('rotten')"
   ]
  },
  {
   "cell_type": "markdown",
   "metadata": {},
   "source": [
    "### Question 2.7"
   ]
  },
  {
   "cell_type": "code",
   "execution_count": 20,
   "metadata": {
    "scrolled": true
   },
   "outputs": [
    {
     "name": "stdout",
     "output_type": "stream",
     "text": [
      "Confusion matrix:\n",
      " [[632 973]\n",
      " [350 610]]\n",
      "Accuracy: 0.4842105263157895\n"
     ]
    }
   ],
   "source": [
    "print('Confusion matrix:\\n', confusion_matrix(y_validation, pred_values))\n",
    "print('Accuracy:', accuracy_score(y_validation, pred_values))"
   ]
  },
  {
   "cell_type": "markdown",
   "metadata": {},
   "source": [
    "# Question 3"
   ]
  },
  {
   "cell_type": "markdown",
   "metadata": {},
   "source": [
    "### Question 3.1"
   ]
  },
  {
   "cell_type": "markdown",
   "metadata": {},
   "source": [
    "Before proceeding further, we decide to filter out stopwords from our data. These are generic words such as 'and', 'the', etc. which add no value to finding whether a movie is fresh or rotten."
   ]
  },
  {
   "cell_type": "code",
   "execution_count": 21,
   "metadata": {},
   "outputs": [],
   "source": [
    "# Dropping stopwords from rotten data\n",
    "for i in X_rotten.index.values:\n",
    "    if X_rotten.word[i] in stopwords.words('english'):\n",
    "        X_rotten.drop([i], inplace=True)"
   ]
  },
  {
   "cell_type": "code",
   "execution_count": 22,
   "metadata": {},
   "outputs": [],
   "source": [
    "# Dropping stopwords from fresh data\n",
    "for i in X_fresh.index.values:\n",
    "    if X_fresh.word[i] in stopwords.words('english'):\n",
    "        X_fresh.drop([i], inplace=True)"
   ]
  },
  {
   "cell_type": "code",
   "execution_count": 23,
   "metadata": {},
   "outputs": [
    {
     "name": "stdout",
     "output_type": "stream",
     "text": [
      "Fresh data for frequent words: \n",
      "           word  count  log_prob\n",
      "378      acted     39 -5.092648\n",
      "379     acting     63 -4.613075\n",
      "380     action    158 -3.693615\n",
      "389      actor     45 -4.949548\n",
      "390     actors     81 -4.361761\n",
      "...        ...    ...       ...\n",
      "20720  written     32 -5.290474\n",
      "20762     year     79 -4.386762\n",
      "20767    years     85 -4.313559\n",
      "20775      yet     79 -4.386762\n",
      "20793    young     63 -4.613075\n",
      "\n",
      "[366 rows x 3 columns]\n",
      "Rotten data for frequent words: \n",
      "          word  count  log_prob\n",
      "379    acting     44 -4.486591\n",
      "380    action    111 -3.561251\n",
      "390    actors     61 -4.159907\n",
      "700    almost     60 -4.176436\n",
      "710      also     40 -4.581902\n",
      "...       ...    ...       ...\n",
      "20664   world     36 -4.687262\n",
      "20676   worst     41 -4.557209\n",
      "20681   would     94 -3.727486\n",
      "20762    year     38 -4.633195\n",
      "20775     yet     38 -4.633195\n",
      "\n",
      "[189 rows x 3 columns]\n"
     ]
    }
   ],
   "source": [
    "# Extracting probabilites for words that occur with a frequency of more than 30\n",
    "X_rotten_freq = X_rotten[X_rotten['count'] > 30]\n",
    "X_fresh_freq = X_fresh[X_fresh['count'] > 30]\n",
    "print(\"Fresh data for frequent words: \\n\", X_fresh_freq)\n",
    "print(\"Rotten data for frequent words: \\n\", X_rotten_freq)"
   ]
  },
  {
   "cell_type": "markdown",
   "metadata": {},
   "source": [
    "### Question 3.2"
   ]
  },
  {
   "cell_type": "code",
   "execution_count": 24,
   "metadata": {},
   "outputs": [
    {
     "name": "stdout",
     "output_type": "stream",
     "text": [
      "The best 10 words for Rotten are:\n"
     ]
    },
    {
     "data": {
      "text/plain": [
       "6782             feels\n",
       "9656       interesting\n",
       "20182             want\n",
       "20676            worst\n",
       "1712           becomes\n",
       "19543    unfortunately\n",
       "9987             jokes\n",
       "12377            night\n",
       "10347            lacks\n",
       "5821            either\n",
       "Name: word, dtype: object"
      ]
     },
     "execution_count": 24,
     "metadata": {},
     "output_type": "execute_result"
    }
   ],
   "source": [
    "# Creating a new dataframe which includes conditional log probabilities for each word\n",
    "new = pd.DataFrame(words)\n",
    "new['rotten_prob'] = X_rotten_freq['log_prob']\n",
    "new['fresh_prob'] = X_fresh_freq['log_prob']\n",
    "# Imputing NAs with a large negative value (to represent negative infinity)\n",
    "# This is to represent an infinitesimal (~0) probability of the word being present in a respective Fresh/Rotten quote\n",
    "new.fillna(-999999, inplace=True)\n",
    "# Renaming column to 'word'\n",
    "new.rename(columns={0: 'word'}, inplace=True)\n",
    "# Computing difference between conditional probabilities. \n",
    "# This is to find which words are most likely to appear in Fresh and which are more likely to appear in Rotten reviews.\n",
    "new['diff'] = new['fresh_prob'] - new['rotten_prob']\n",
    "print('The best 10 words for Rotten are:')\n",
    "new.sort_values(by='diff', ascending=True).head(10)['word']"
   ]
  },
  {
   "cell_type": "code",
   "execution_count": 25,
   "metadata": {},
   "outputs": [
    {
     "name": "stdout",
     "output_type": "stream",
     "text": [
      "The best 10 words for Fresh are:\n"
     ]
    },
    {
     "data": {
      "text/plain": [
       "6104      entertaining\n",
       "13396      performance\n",
       "768           american\n",
       "6106     entertainment\n",
       "20767            years\n",
       "3283           classic\n",
       "18292             tale\n",
       "13551            piece\n",
       "13197             part\n",
       "6055         enjoyable\n",
       "Name: word, dtype: object"
      ]
     },
     "execution_count": 25,
     "metadata": {},
     "output_type": "execute_result"
    }
   ],
   "source": [
    "print('The best 10 words for Fresh are:')\n",
    "new.sort_values(by='diff', ascending=False).head(10)['word']"
   ]
  },
  {
   "cell_type": "markdown",
   "metadata": {},
   "source": [
    "### Question 3.3"
   ]
  },
  {
   "cell_type": "code",
   "execution_count": 26,
   "metadata": {},
   "outputs": [
    {
     "data": {
      "text/html": [
       "<div>\n",
       "<style scoped>\n",
       "    .dataframe tbody tr th:only-of-type {\n",
       "        vertical-align: middle;\n",
       "    }\n",
       "\n",
       "    .dataframe tbody tr th {\n",
       "        vertical-align: top;\n",
       "    }\n",
       "\n",
       "    .dataframe thead th {\n",
       "        text-align: right;\n",
       "    }\n",
       "</style>\n",
       "<table border=\"1\" class=\"dataframe\">\n",
       "  <thead>\n",
       "    <tr style=\"text-align: right;\">\n",
       "      <th></th>\n",
       "      <th>fresh</th>\n",
       "      <th>predicted</th>\n",
       "      <th>quote</th>\n",
       "    </tr>\n",
       "  </thead>\n",
       "  <tbody>\n",
       "    <tr>\n",
       "      <td>3953</td>\n",
       "      <td>fresh</td>\n",
       "      <td>rotten</td>\n",
       "      <td>The greatness of The Battle of Algiers lies in...</td>\n",
       "    </tr>\n",
       "    <tr>\n",
       "      <td>5711</td>\n",
       "      <td>fresh</td>\n",
       "      <td>rotten</td>\n",
       "      <td>A happy, heartfelt chapter that reunites the o...</td>\n",
       "    </tr>\n",
       "    <tr>\n",
       "      <td>4271</td>\n",
       "      <td>fresh</td>\n",
       "      <td>rotten</td>\n",
       "      <td>It is a funny picture - not too consistently, ...</td>\n",
       "    </tr>\n",
       "    <tr>\n",
       "      <td>9673</td>\n",
       "      <td>fresh</td>\n",
       "      <td>rotten</td>\n",
       "      <td>A pity that the directors prove less ruthless ...</td>\n",
       "    </tr>\n",
       "    <tr>\n",
       "      <td>9120</td>\n",
       "      <td>rotten</td>\n",
       "      <td>fresh</td>\n",
       "      <td>Neither Trey Callaway, who wrote the script, n...</td>\n",
       "    </tr>\n",
       "    <tr>\n",
       "      <td>2862</td>\n",
       "      <td>fresh</td>\n",
       "      <td>rotten</td>\n",
       "      <td>It glows with sorrowful humor in its look at t...</td>\n",
       "    </tr>\n",
       "    <tr>\n",
       "      <td>5748</td>\n",
       "      <td>fresh</td>\n",
       "      <td>rotten</td>\n",
       "      <td>The fast-moving 124-minute film engenders enor...</td>\n",
       "    </tr>\n",
       "    <tr>\n",
       "      <td>1152</td>\n",
       "      <td>fresh</td>\n",
       "      <td>rotten</td>\n",
       "      <td>It's about seduction, and either you succumb t...</td>\n",
       "    </tr>\n",
       "    <tr>\n",
       "      <td>12795</td>\n",
       "      <td>rotten</td>\n",
       "      <td>fresh</td>\n",
       "      <td>I hope what they all got paid made it worth th...</td>\n",
       "    </tr>\n",
       "    <tr>\n",
       "      <td>6803</td>\n",
       "      <td>fresh</td>\n",
       "      <td>rotten</td>\n",
       "      <td>Carrey turns Truman into a postmodern Capra hero.</td>\n",
       "    </tr>\n",
       "    <tr>\n",
       "      <td>6883</td>\n",
       "      <td>fresh</td>\n",
       "      <td>rotten</td>\n",
       "      <td>If any film should be redone in 3-D, it's \"Tit...</td>\n",
       "    </tr>\n",
       "    <tr>\n",
       "      <td>582</td>\n",
       "      <td>fresh</td>\n",
       "      <td>rotten</td>\n",
       "      <td>If Lucy Fell should be a chore, and yet I kept...</td>\n",
       "    </tr>\n",
       "    <tr>\n",
       "      <td>1051</td>\n",
       "      <td>rotten</td>\n",
       "      <td>fresh</td>\n",
       "      <td>Tucker came up with a classic, but poor Coppol...</td>\n",
       "    </tr>\n",
       "    <tr>\n",
       "      <td>4498</td>\n",
       "      <td>fresh</td>\n",
       "      <td>rotten</td>\n",
       "      <td>The film is exhilarating to watch because Sand...</td>\n",
       "    </tr>\n",
       "    <tr>\n",
       "      <td>8392</td>\n",
       "      <td>fresh</td>\n",
       "      <td>rotten</td>\n",
       "      <td>The difference between John McNaughton's incre...</td>\n",
       "    </tr>\n",
       "    <tr>\n",
       "      <td>12140</td>\n",
       "      <td>fresh</td>\n",
       "      <td>rotten</td>\n",
       "      <td>Although picture carries the indelible stamp o...</td>\n",
       "    </tr>\n",
       "    <tr>\n",
       "      <td>8284</td>\n",
       "      <td>fresh</td>\n",
       "      <td>rotten</td>\n",
       "      <td>The film echoes the technical wizardry and com...</td>\n",
       "    </tr>\n",
       "    <tr>\n",
       "      <td>3154</td>\n",
       "      <td>fresh</td>\n",
       "      <td>rotten</td>\n",
       "      <td>This may not have the weight of 'Great Art', b...</td>\n",
       "    </tr>\n",
       "    <tr>\n",
       "      <td>3240</td>\n",
       "      <td>fresh</td>\n",
       "      <td>rotten</td>\n",
       "      <td>Burns emphatically avoids sophomore slump with...</td>\n",
       "    </tr>\n",
       "    <tr>\n",
       "      <td>9006</td>\n",
       "      <td>rotten</td>\n",
       "      <td>fresh</td>\n",
       "      <td>Although I enjoyed portions of the movie, I ca...</td>\n",
       "    </tr>\n",
       "    <tr>\n",
       "      <td>4279</td>\n",
       "      <td>fresh</td>\n",
       "      <td>rotten</td>\n",
       "      <td>Wanda defies gravity, in both senses of the wo...</td>\n",
       "    </tr>\n",
       "    <tr>\n",
       "      <td>11931</td>\n",
       "      <td>fresh</td>\n",
       "      <td>rotten</td>\n",
       "      <td>A deluge of movies is set to be released in th...</td>\n",
       "    </tr>\n",
       "    <tr>\n",
       "      <td>3504</td>\n",
       "      <td>rotten</td>\n",
       "      <td>fresh</td>\n",
       "      <td>The film, like its oddly rumbling sky, promise...</td>\n",
       "    </tr>\n",
       "    <tr>\n",
       "      <td>1699</td>\n",
       "      <td>rotten</td>\n",
       "      <td>fresh</td>\n",
       "      <td>As beautifully photographed and intelligently-...</td>\n",
       "    </tr>\n",
       "    <tr>\n",
       "      <td>11130</td>\n",
       "      <td>fresh</td>\n",
       "      <td>rotten</td>\n",
       "      <td>The film may be routine, but Lawrence is anyth...</td>\n",
       "    </tr>\n",
       "    <tr>\n",
       "      <td>3646</td>\n",
       "      <td>fresh</td>\n",
       "      <td>rotten</td>\n",
       "      <td>The movie remains a great tonic.</td>\n",
       "    </tr>\n",
       "    <tr>\n",
       "      <td>2371</td>\n",
       "      <td>fresh</td>\n",
       "      <td>rotten</td>\n",
       "      <td>Safe and apolitical it may be, but Philadelphi...</td>\n",
       "    </tr>\n",
       "    <tr>\n",
       "      <td>6160</td>\n",
       "      <td>fresh</td>\n",
       "      <td>rotten</td>\n",
       "      <td>Clever enough to make jokes about Greco-Roman ...</td>\n",
       "    </tr>\n",
       "    <tr>\n",
       "      <td>2062</td>\n",
       "      <td>fresh</td>\n",
       "      <td>rotten</td>\n",
       "      <td>Dave has been directed by Ivan Reitman in a re...</td>\n",
       "    </tr>\n",
       "    <tr>\n",
       "      <td>3316</td>\n",
       "      <td>fresh</td>\n",
       "      <td>rotten</td>\n",
       "      <td>If you aren't between the ages of six and 14 o...</td>\n",
       "    </tr>\n",
       "  </tbody>\n",
       "</table>\n",
       "</div>"
      ],
      "text/plain": [
       "        fresh predicted                                              quote\n",
       "3953    fresh    rotten  The greatness of The Battle of Algiers lies in...\n",
       "5711    fresh    rotten  A happy, heartfelt chapter that reunites the o...\n",
       "4271    fresh    rotten  It is a funny picture - not too consistently, ...\n",
       "9673    fresh    rotten  A pity that the directors prove less ruthless ...\n",
       "9120   rotten     fresh  Neither Trey Callaway, who wrote the script, n...\n",
       "2862    fresh    rotten  It glows with sorrowful humor in its look at t...\n",
       "5748    fresh    rotten  The fast-moving 124-minute film engenders enor...\n",
       "1152    fresh    rotten  It's about seduction, and either you succumb t...\n",
       "12795  rotten     fresh  I hope what they all got paid made it worth th...\n",
       "6803    fresh    rotten  Carrey turns Truman into a postmodern Capra hero.\n",
       "6883    fresh    rotten  If any film should be redone in 3-D, it's \"Tit...\n",
       "582     fresh    rotten  If Lucy Fell should be a chore, and yet I kept...\n",
       "1051   rotten     fresh  Tucker came up with a classic, but poor Coppol...\n",
       "4498    fresh    rotten  The film is exhilarating to watch because Sand...\n",
       "8392    fresh    rotten  The difference between John McNaughton's incre...\n",
       "12140   fresh    rotten  Although picture carries the indelible stamp o...\n",
       "8284    fresh    rotten  The film echoes the technical wizardry and com...\n",
       "3154    fresh    rotten  This may not have the weight of 'Great Art', b...\n",
       "3240    fresh    rotten  Burns emphatically avoids sophomore slump with...\n",
       "9006   rotten     fresh  Although I enjoyed portions of the movie, I ca...\n",
       "4279    fresh    rotten  Wanda defies gravity, in both senses of the wo...\n",
       "11931   fresh    rotten  A deluge of movies is set to be released in th...\n",
       "3504   rotten     fresh  The film, like its oddly rumbling sky, promise...\n",
       "1699   rotten     fresh  As beautifully photographed and intelligently-...\n",
       "11130   fresh    rotten  The film may be routine, but Lawrence is anyth...\n",
       "3646    fresh    rotten                   The movie remains a great tonic.\n",
       "2371    fresh    rotten  Safe and apolitical it may be, but Philadelphi...\n",
       "6160    fresh    rotten  Clever enough to make jokes about Greco-Roman ...\n",
       "2062    fresh    rotten  Dave has been directed by Ivan Reitman in a re...\n",
       "3316    fresh    rotten  If you aren't between the ages of six and 14 o..."
      ]
     },
     "execution_count": 26,
     "metadata": {},
     "output_type": "execute_result"
    }
   ],
   "source": [
    "# Comparing predicted values with target values to find misclassified quotes\n",
    "test = pd.DataFrame(y_validation)\n",
    "test['predicted'] = pred_values\n",
    "test['quote'] = x_validation['quote']\n",
    "misclassified = test[test['fresh'] != test['predicted']]\n",
    "misclassified.head(30)"
   ]
  },
  {
   "cell_type": "code",
   "execution_count": 27,
   "metadata": {},
   "outputs": [
    {
     "data": {
      "text/plain": [
       "\"Although I enjoyed portions of the movie, I can't wholeheartedly recommend something with such an unfortunate and dissatisfying conclusion!\""
      ]
     },
     "execution_count": 27,
     "metadata": {},
     "output_type": "execute_result"
    }
   ],
   "source": [
    "misclassified.iloc[19, :]['quote']"
   ]
  },
  {
   "cell_type": "markdown",
   "metadata": {},
   "source": [
    "The above quote was classified as fresh but was actually for a rotten review. The word 'enjoyed' might have been the cause for this misclassification."
   ]
  },
  {
   "cell_type": "code",
   "execution_count": 28,
   "metadata": {},
   "outputs": [
    {
     "data": {
      "text/plain": [
       "'The film, like its oddly rumbling sky, promises more than it ever delivers. Granted, it can look cool. But more often, as we wait for the lightning that never arrives, it frustrates.'"
      ]
     },
     "execution_count": 28,
     "metadata": {},
     "output_type": "execute_result"
    }
   ],
   "source": [
    "misclassified.iloc[22, :]['quote']"
   ]
  },
  {
   "cell_type": "markdown",
   "metadata": {},
   "source": [
    "The above quote was classified as rotten but was actually for a fresh review. The word 'frustrates' might have been the casue for this misclassification."
   ]
  },
  {
   "cell_type": "markdown",
   "metadata": {},
   "source": [
    "# Question 4"
   ]
  },
  {
   "cell_type": "markdown",
   "metadata": {},
   "source": [
    "### Question 4.1"
   ]
  },
  {
   "cell_type": "code",
   "execution_count": 29,
   "metadata": {},
   "outputs": [],
   "source": [
    "def model(df):\n",
    "     # Vectorize words in df, find is word is present in respective quote\n",
    "    vectorizer = CountVectorizer(binary=True)\n",
    "    X = pd.DataFrame(vectorizer.fit_transform(df.quote.values).toarray())\n",
    "    words = vectorizer.get_feature_names()\n",
    "    # Replacing the indexes of the columns with their respective names\n",
    "    X.columns = words\n",
    "    \n",
    "    # Split data into fresh and rotten\n",
    "    x = df.loc[:, df.columns != 'fresh']\n",
    "    y = df['fresh']\n",
    "    \n",
    "    # Split the data into training and validation\n",
    "    x_train, x_validation, y_train, y_validation = train_test_split(x, y, test_size=0.2)\n",
    "    \n",
    "    return x_train, x_validation, y_train, y_validation\n",
    "\n",
    "def fitNB(df):\n",
    "    x_train, x_validation, y_train, y_validation = model(df)\n",
    "    \n",
    "    f = y_train.value_counts()['fresh']\n",
    "    r = y_train.value_counts()['rotten']\n",
    "    \n",
    "    # Computing the log probability of fresh and rotten\n",
    "    pr_fresh = np.log(f /(f + r))\n",
    "    pr_rotten = np.log(r /(f + r))\n",
    "    \n",
    "    # Compute indices of fresh and rotten elements in training set\n",
    "    fresh_index = y_train[y_train == 'fresh'].index.values\n",
    "    rotten_index = y_train[y_train == 'rotten'].index.values\n",
    "    \n",
    "    # Subset vectorized dataframe into fresh and rotten based on indices\n",
    "    X_rotten = pd.DataFrame(X[X.index.isin(rotten_index)].sum()).rename(columns={0: 'count'})\n",
    "    X_rotten = X_rotten[X_rotten['count'] != 0]\n",
    "    X_rotten['log_prob'] = np.log(X_rotten['count']/len(rotten_index))\n",
    "    X_rotten = X_rotten.to_dict()['log_prob']\n",
    "    \n",
    "    X_fresh = pd.DataFrame(X[X.index.isin(fresh_index)].sum()).rename(columns={0: 'count'})\n",
    "    X_fresh = X_fresh[X_fresh['count'] != 0]\n",
    "    X_fresh['log_prob'] = np.log(X_fresh['count']/len(fresh_index))\n",
    "    X_fresh = X_fresh.to_dict()['log_prob']\n",
    "    \n",
    "    return pr_fresh, pr_rotten, X_rotten, X_fresh\n",
    "\n",
    "def predict(df):\n",
    "    pr_fresh, pr_rotten, X_rotten, X_fresh = fitNB(df)\n",
    "    pred_values = []\n",
    "    \n",
    "    '''Looping through every quote and taking every word of the quote and assigning its repective fresh or rotten\n",
    "        log probability and checking which one is greater and predicting the one greater for that quote '''\n",
    "    \n",
    "    for sentence in x_validation.quote:\n",
    "        ans_fresh, ans_rotten = 0, 0\n",
    "        temp = re.split(r'\\W+', sentence.lower())\n",
    "        for ele in temp:\n",
    "            if ele != '' and ele in X_fresh_new.keys():\n",
    "                ans_fresh += X_fresh_new[ele]\n",
    "            if ele != '' and ele in X_rotten_new.keys():\n",
    "                ans_rotten += X_rotten_new[ele]\n",
    "        if pr_fresh + ans_fresh > pr_rotten + ans_rotten:\n",
    "            pred_values.append('fresh')\n",
    "        else:\n",
    "            pred_values.append('rotten')\n",
    "    \n",
    "    # Getting the confusion matrix and the accuracy score of the predicted model\n",
    "    cm = confusion_matrix(y_validation, pred_values)\n",
    "    ac = accuracy_score(y_validation, pred_values)\n",
    "    return cm, ac"
   ]
  },
  {
   "cell_type": "code",
   "execution_count": 30,
   "metadata": {},
   "outputs": [
    {
     "name": "stdout",
     "output_type": "stream",
     "text": [
      "The confusion matrix is:\n",
      " [[632 973]\n",
      " [351 609]]\n",
      "The accuracy is: 0.4838206627680312\n"
     ]
    }
   ],
   "source": [
    "# Using the predict function to run through the entire process done above\n",
    "cm, ac = predict(new_df1)\n",
    "print('The confusion matrix is:\\n', cm)\n",
    "print('The accuracy is:', ac)"
   ]
  },
  {
   "cell_type": "markdown",
   "metadata": {},
   "source": [
    "### Question 4.2"
   ]
  },
  {
   "cell_type": "code",
   "execution_count": 31,
   "metadata": {},
   "outputs": [],
   "source": [
    "def model_new(df):\n",
    "     # Vectorize words in df, find is word is present in respective quote\n",
    "    vectorizer = CountVectorizer(binary=True)\n",
    "    X = pd.DataFrame(vectorizer.fit_transform(df.quote.values).toarray())\n",
    "    words = vectorizer.get_feature_names()\n",
    "    X.columns = words\n",
    "    \n",
    "    # Split data into fresh and rotten\n",
    "    x = df.loc[:, df.columns != 'fresh']\n",
    "    y = df['fresh']\n",
    "    \n",
    "    # Split the data into training and validation\n",
    "    x_train, x_validation, y_train, y_validation = train_test_split(x, y, test_size=0.2)\n",
    "    \n",
    "    return x_train, x_validation, y_train, y_validation, X\n",
    "\n",
    "def fitNB_new(df, alpha, beta):\n",
    "    x_train, x_validation, y_train, y_validation, X = model_new(df)\n",
    "    \n",
    "    # Compute log probabilities of fresh and rotten\n",
    "    f = y_train.value_counts()['fresh']\n",
    "    r = y_train.value_counts()['rotten']\n",
    "    \n",
    "    # Adding the values of alpha and beta in their respective places to perform smoothing\n",
    "    pr_fresh = np.log((f + alpha)/(f + r + alpha + beta))\n",
    "    pr_rotten = np.log((r + beta)/(f + r + alpha + beta))\n",
    "    \n",
    "    # Compute indices of fresh and rotten elements in training set\n",
    "    fresh_index = y_train[y_train == 'fresh'].index.values\n",
    "    rotten_index = y_train[y_train == 'rotten'].index.values\n",
    "    \n",
    "    # Subset vectorized dataframe into fresh and rotten based on indices\n",
    "    # Adding beta to the count of the already existing counts of rotten\n",
    "    X_rotten = pd.DataFrame(X[X.index.isin(rotten_index)].sum()).rename(columns={0: 'count'})\n",
    "    X_rotten['count'] = np.where(X_rotten['count'] != 0, X_rotten['count'] + beta, beta)\n",
    "    X_rotten['log_prob'] = np.log((X_rotten['count'])/(len(rotten_index) + beta))\n",
    "    X_rotten = X_rotten.to_dict()['log_prob']\n",
    "\n",
    "    # Adding alpha to the count of the already existing counts of fresh\n",
    "    X_fresh = pd.DataFrame(X[X.index.isin(fresh_index)].sum()).rename(columns={0: 'count'})\n",
    "    X_fresh['count'] = np.where(X_fresh['count'] != 0, X_fresh['count'] + alpha, alpha)\n",
    "    X_fresh['log_prob'] = np.log((X_fresh['count'] + alpha)/(len(fresh_index) + alpha))\n",
    "    X_fresh = X_fresh.to_dict()['log_prob']\n",
    "    \n",
    "    return pr_fresh, pr_rotten, X_rotten, X_fresh, x_validation, y_validation\n",
    "\n",
    "def predict_new(df, alpha, beta):\n",
    "    pr_fresh, pr_rotten, X_rotten, X_fresh, x_validation, y_validation = fitNB_new(df, alpha, beta)\n",
    "    pred_values = []\n",
    "    for sentence in x_validation.quote:\n",
    "        ans_fresh, ans_rotten = 0, 0\n",
    "        temp = re.split(r'\\W+', sentence.lower())\n",
    "        for ele in temp:\n",
    "            if ele != '' and ele in X_fresh.keys():\n",
    "                ans_fresh += X_fresh[ele]\n",
    "            if ele != '' and ele in X_rotten.keys():\n",
    "                ans_rotten += X_rotten[ele]\n",
    "        if pr_fresh + ans_fresh > pr_rotten + ans_rotten:\n",
    "            pred_values.append('fresh')\n",
    "        else:\n",
    "            pred_values.append('rotten')\n",
    "    cm = confusion_matrix(y_validation, pred_values)\n",
    "    ac = accuracy_score(y_validation, pred_values)\n",
    "    return cm, ac"
   ]
  },
  {
   "cell_type": "code",
   "execution_count": 32,
   "metadata": {},
   "outputs": [
    {
     "name": "stdout",
     "output_type": "stream",
     "text": [
      "The confusion matrix is:\n",
      " [[1396  212]\n",
      " [ 462  495]]\n",
      "The accuracy is: 0.7372319688109161\n"
     ]
    }
   ],
   "source": [
    "# Prediction done after smoothing\n",
    "cm, ac = predict_new(new_df1, 0.02, 0.01)\n",
    "print('The confusion matrix is:\\n', cm)\n",
    "print('The accuracy is:', ac)"
   ]
  },
  {
   "cell_type": "markdown",
   "metadata": {},
   "source": [
    "### Question 4.3"
   ]
  },
  {
   "cell_type": "code",
   "execution_count": 33,
   "metadata": {},
   "outputs": [],
   "source": [
    "def kfoldcv(df, k, alpha, beta): \n",
    "    # Dividing the data into k-splits\n",
    "    temp = np.array_split(df, k)\n",
    "    ac = []\n",
    "    # Looping k times (one for each fold)\n",
    "    for x in range(k):\n",
    "        trainList = []\n",
    "        for y in range(k):\n",
    "            if y == x:\n",
    "                validation = temp[y]\n",
    "            else:\n",
    "                trainList.append(temp[y])\n",
    "        train = pd.concat(trainList)\n",
    "\n",
    "        # Splitting traning into features and target\n",
    "        x_train = train.loc[:, train.columns != 'fresh']\n",
    "        y_train = train.loc[:, train.columns == 'fresh']\n",
    "        \n",
    "        # Splitting validation into features and target\n",
    "        x_validation = validation.loc[:, validation.columns != 'fresh']\n",
    "        y_validation = validation.loc[:, validation.columns == 'fresh'] \n",
    "        \n",
    "        # Appending the accuracy to the ac variable and then returning the mean of the list\n",
    "        ac.append(fitNB_alpha(df, x_train, x_validation, y_train, y_validation, alpha, beta))\n",
    "\n",
    "    return np.mean(ac)\n",
    "\n",
    "def vectorizer(df):\n",
    "     # Vectorize words in df, find is word is present in respective quote\n",
    "    vectorizer = CountVectorizer(binary=True)\n",
    "    X = pd.DataFrame(vectorizer.fit_transform(df.quote.values).toarray())\n",
    "    words = vectorizer.get_feature_names()\n",
    "    X.columns = words\n",
    "    return X\n",
    "\n",
    "def fitNB_alpha(df, x_train, x_validation, y_train, y_validation, alpha, beta):\n",
    "    X = vectorizer(df)\n",
    "    \n",
    "    # Compute log probabilities of fresh and rotten\n",
    "    f = y_train['fresh'].value_counts()['fresh']\n",
    "    r = y_train['fresh'].value_counts()['rotten']\n",
    "    pr_fresh = np.log((f + alpha)/(f + r + alpha + beta))\n",
    "    pr_rotten = np.log((r + beta)/(f + r + alpha + beta))\n",
    "    \n",
    "    # Compute indices of fresh and rotten elements in training set\n",
    "    fresh_index = y_train[y_train == 'fresh'].index.values\n",
    "    rotten_index = y_train[y_train == 'rotten'].index.values\n",
    "    \n",
    "    # Subset vectorized dataframe into fresh and rotten based on indices\n",
    "    # Adding beta to the count of the already existing counts of rotten\n",
    "    X_rotten = pd.DataFrame(X[X.index.isin(rotten_index)].sum()).rename(columns={0: 'count'})\n",
    "    X_rotten['count'] = np.where(X_rotten['count'] != 0, X_rotten['count'] + beta, beta)\n",
    "    X_rotten['log_prob'] = np.log((X_rotten['count'])/(len(rotten_index) + beta))\n",
    "    X_rotten = X_rotten.to_dict()['log_prob']\n",
    "\n",
    "    # Adding alpha to the count of the already existing counts of fresh\n",
    "    X_fresh = pd.DataFrame(X[X.index.isin(fresh_index)].sum()).rename(columns={0: 'count'})\n",
    "    X_fresh['count'] = np.where(X_fresh['count'] != 0, X_fresh['count'] + alpha, alpha)\n",
    "    X_fresh['log_prob'] = np.log((X_fresh['count'] + alpha)/(len(fresh_index) + alpha))\n",
    "    X_fresh = X_fresh.to_dict()['log_prob']\n",
    "        \n",
    "    return predict_alpha(pr_fresh, pr_rotten, X_rotten, X_fresh, x_validation, y_validation, alpha, beta)\n",
    "\n",
    "def predict_alpha(pr_fresh, pr_rotten, X_rotten, X_fresh, x_validation, y_validation, alpha, beta):\n",
    "    pred_values = []\n",
    "    for sentence in x_validation.quote:\n",
    "        ans_fresh, ans_rotten = 0, 0\n",
    "        temp = re.split(r'\\W+', sentence.lower())\n",
    "        for ele in temp:\n",
    "            if ele != '' and ele in X_fresh.keys():\n",
    "                ans_fresh += X_fresh[ele]\n",
    "            if ele != '' and ele in X_rotten.keys():\n",
    "                ans_rotten += X_rotten[ele]\n",
    "        if pr_fresh + ans_fresh > pr_rotten + ans_rotten:\n",
    "            pred_values.append('fresh')\n",
    "        else:\n",
    "            pred_values.append('rotten')\n",
    "    cm = confusion_matrix(y_validation, pred_values)\n",
    "    ac = accuracy_score(y_validation, pred_values)\n",
    "    return ac"
   ]
  },
  {
   "cell_type": "code",
   "execution_count": 36,
   "metadata": {},
   "outputs": [
    {
     "name": "stdout",
     "output_type": "stream",
     "text": [
      "Alpha Beta Accuracy\n",
      "[0.01, 0.01, 0.6203635888125583]\n",
      "[0.01, 0.21000000000000002, 0.4994158433003987]\n",
      "[0.01, 0.41000000000000003, 0.4650267156885105]\n",
      "[0.01, 0.6100000000000001, 0.4470139554120177]\n",
      "[0.01, 0.81, 0.4371887553864727]\n",
      "[0.21000000000000002, 0.01, 0.6203635888125583]\n",
      "[0.21000000000000002, 0.21000000000000002, 0.6203635888125583]\n",
      "[0.21000000000000002, 0.41000000000000003, 0.6203635888125583]\n",
      "[0.21000000000000002, 0.6100000000000001, 0.5172744219710309]\n",
      "[0.21000000000000002, 0.81, 0.473370647106586]\n",
      "[0.41000000000000003, 0.01, 0.6203635888125583]\n",
      "[0.41000000000000003, 0.21000000000000002, 0.6203635888125583]\n",
      "[0.41000000000000003, 0.41000000000000003, 0.6203635888125583]\n",
      "[0.41000000000000003, 0.6100000000000001, 0.6203635888125583]\n",
      "[0.41000000000000003, 0.81, 0.6203635888125583]\n",
      "[0.6100000000000001, 0.01, 0.6203635888125583]\n",
      "[0.6100000000000001, 0.21000000000000002, 0.6203635888125583]\n",
      "[0.6100000000000001, 0.41000000000000003, 0.6203635888125583]\n",
      "[0.6100000000000001, 0.6100000000000001, 0.6203635888125583]\n",
      "[0.6100000000000001, 0.81, 0.6203635888125583]\n",
      "[0.81, 0.01, 0.6203635888125583]\n",
      "[0.81, 0.21000000000000002, 0.6203635888125583]\n",
      "[0.81, 0.41000000000000003, 0.6203635888125583]\n",
      "[0.81, 0.6100000000000001, 0.6203635888125583]\n",
      "[0.81, 0.81, 0.6203635888125583]\n"
     ]
    }
   ],
   "source": [
    "temp = []\n",
    "# Looping through the different values of alpha and beta to get the accuracy\n",
    "# Returning the alpha, beta and accuracy as a list of list\n",
    "for alpha in np.arange(0.01, 0.91, 0.2):\n",
    "    for beta in np.arange(0.01, 0.91, 0.2):\n",
    "        temp.append([alpha, beta, kfoldcv(new_df1, 5, alpha, beta)])\n",
    "\n",
    "print('Alpha', 'Beta', 'Accuracy')     \n",
    "for i, l in enumerate(temp):\n",
    "    print(l)"
   ]
  },
  {
   "cell_type": "code",
   "execution_count": 37,
   "metadata": {},
   "outputs": [
    {
     "data": {
      "text/plain": [
       "0.510410542737499"
      ]
     },
     "execution_count": 37,
     "metadata": {},
     "output_type": "execute_result"
    }
   ],
   "source": [
    "kfoldcv(new_df1, 5, 0.01, 0.1)"
   ]
  },
  {
   "cell_type": "code",
   "execution_count": 38,
   "metadata": {},
   "outputs": [
    {
     "data": {
      "text/plain": [
       "0.5416835293294773"
      ]
     },
     "execution_count": 38,
     "metadata": {},
     "output_type": "execute_result"
    }
   ],
   "source": [
    "kfoldcv(new_df1, 5, 0.03, 0.09)"
   ]
  },
  {
   "cell_type": "code",
   "execution_count": 39,
   "metadata": {},
   "outputs": [
    {
     "data": {
      "text/plain": [
       "0.6203635888125583"
      ]
     },
     "execution_count": 39,
     "metadata": {},
     "output_type": "execute_result"
    }
   ],
   "source": [
    "kfoldcv(new_df1, 5, 0.02, 0)"
   ]
  },
  {
   "cell_type": "code",
   "execution_count": 40,
   "metadata": {},
   "outputs": [
    {
     "data": {
      "text/plain": [
       "0.6117077361457032"
      ]
     },
     "execution_count": 40,
     "metadata": {},
     "output_type": "execute_result"
    }
   ],
   "source": [
    "kfoldcv(new_df1, 5, 0.04, 0.09)"
   ]
  },
  {
   "cell_type": "code",
   "execution_count": 41,
   "metadata": {},
   "outputs": [
    {
     "data": {
      "text/plain": [
       "0.6203635888125583"
      ]
     },
     "execution_count": 41,
     "metadata": {},
     "output_type": "execute_result"
    }
   ],
   "source": [
    "kfoldcv(new_df1, 5, 0.1, 0)"
   ]
  },
  {
   "cell_type": "markdown",
   "metadata": {},
   "source": [
    "We found that amongst all the values of alpha and beta that we tested, we got the highest accuracy (62.02 percent), for several combinations of alpha and beta. One of these combinations is: alpha = 0.01, beta = 0.01"
   ]
  }
 ],
 "metadata": {
  "kernelspec": {
   "display_name": "Python 3",
   "language": "python",
   "name": "python3"
  },
  "language_info": {
   "codemirror_mode": {
    "name": "ipython",
    "version": 3
   },
   "file_extension": ".py",
   "mimetype": "text/x-python",
   "name": "python",
   "nbconvert_exporter": "python",
   "pygments_lexer": "ipython3",
   "version": "3.7.4"
  }
 },
 "nbformat": 4,
 "nbformat_minor": 2
}
